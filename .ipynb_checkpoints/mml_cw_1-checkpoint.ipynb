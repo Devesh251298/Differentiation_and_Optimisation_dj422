{
 "cells": [
  {
   "cell_type": "markdown",
   "metadata": {},
   "source": [
    "# Coursework 1: Gradient Descent (27 Points)\n",
    "### Autograding\n",
    "Part 1 of this coursework is autograded. This notebook comes with embedded tests which will verify that your implementations provide outputs with the appropriate types and shapes required for our hidden tests. You can run these same public tests through [LabTS](https://teaching.doc.ic.ac.uk/labts) when you have finished your work, to check that we get the same results when running these public tests.\n",
    "\n",
    "Hidden tests will be ran after the submission deadline, and cannot be accessed. They mostly check that you didn't cheat by using external functions, or that your implementations generate the correct answers for a few different (sensible) inputs."
   ]
  },
  {
   "cell_type": "markdown",
   "metadata": {},
   "source": [
    "### Setup\n"
   ]
  },
  {
   "cell_type": "code",
   "execution_count": 16,
   "metadata": {},
   "outputs": [
    {
     "name": "stdout",
     "output_type": "stream",
     "text": [
      "\n",
      "\u001b[1m[\u001b[0m\u001b[34;49mnotice\u001b[0m\u001b[1;39;49m]\u001b[0m\u001b[39;49m A new release of pip available: \u001b[0m\u001b[31;49m22.2.2\u001b[0m\u001b[39;49m -> \u001b[0m\u001b[32;49m22.3\u001b[0m\n",
      "\u001b[1m[\u001b[0m\u001b[34;49mnotice\u001b[0m\u001b[1;39;49m]\u001b[0m\u001b[39;49m To update, run: \u001b[0m\u001b[32;49mpython3.10 -m pip install --upgrade pip\u001b[0m\n",
      "Note: you may need to restart the kernel to use updated packages.\n"
     ]
    }
   ],
   "source": [
    "%pip install -q otter-grader==4.1.0 numpy pandoc seaborn autograd memory-profiler graphviz"
   ]
  },
  {
   "cell_type": "code",
   "execution_count": 17,
   "metadata": {},
   "outputs": [],
   "source": [
    "# Initialization Cell\n",
    "%matplotlib inline\n",
    "import otter\n",
    "grader = otter.Notebook(\"mml_cw_1.ipynb\")\n",
    "import matplotlib.pyplot as plt # DO NOT use %matplotlib inline in the notebook\n",
    "import numpy as np\n",
    "rng_seed = 90"
   ]
  },
  {
   "cell_type": "markdown",
   "metadata": {},
   "source": [
    "---\n",
    "## Part 1 - Differentiation & Gradient Descent (16 points)"
   ]
  },
  {
   "cell_type": "markdown",
   "metadata": {},
   "source": [
    "In this question, we define the following constants:\n",
    "\n",
    "$$\\boldsymbol{B}=\\left(\\begin{array}{cc}\n",
    "4 & -2 \\\\\n",
    "-2 & 4\n",
    "\\end{array}\\right), \\quad \\boldsymbol{a}=\\left(\\begin{array}{l}\n",
    "0 \\\\\n",
    "1\n",
    "\\end{array}\\right), \\quad \\boldsymbol{b}=\\left(\\begin{array}{c}\n",
    "-2 \\\\\n",
    "1\n",
    "\\end{array}\\right)$$\n",
    "\n",
    "We define also the following functions, which are all $\\mathbb{R}^2 \\rightarrow \\mathbb{R}$\n",
    "$$\n",
    "\\begin{aligned}\n",
    "&f_1(\\boldsymbol{x})=\\boldsymbol{x}^T \\boldsymbol{B} \\boldsymbol{x}-\\boldsymbol{x}^T \\boldsymbol{x}+\\boldsymbol{a}^T \\boldsymbol{x}-\\boldsymbol{b}^T \\boldsymbol{x} \\\\\n",
    "&f_2(\\boldsymbol{x})=\\cos \\left((\\boldsymbol{x}-\\boldsymbol{b})^T(\\boldsymbol{x}-\\boldsymbol{b})\\right)+(\\boldsymbol{x}-\\boldsymbol{a})^T \\boldsymbol{B}(\\boldsymbol{x}-\\boldsymbol{a}) \\\\\n",
    "&f_3(\\boldsymbol{x})=1-\\left(\\exp \\left(-(\\boldsymbol{x}-\\boldsymbol{a})^T(\\boldsymbol{x}-\\boldsymbol{a})\\right)+\\exp \\left(-(\\boldsymbol{x}-\\boldsymbol{b})^T \\boldsymbol{B}(\\boldsymbol{x}-\\boldsymbol{b})\\right)-\\frac{1}{10} \\log \\left|\\frac{1}{100} \\boldsymbol{I}+\\boldsymbol{x} \\boldsymbol{x}^T\\right|\\right)\n",
    "\\end{aligned}\n",
    "$$\n",
    "Implementations of these functions are provided below.\n",
    "\n",
    "Throughout this exercise, we remain consistent in our convention of using row vectors for our gradients $\\left( \\textnormal{i.e. } \\frac{\\partial f_1}{\\partial x}, \\frac{\\partial f_2}{\\partial x}, \\frac{\\partial f_3}{\\partial x} \\in \\mathbb{R}^{1 \\times 2} \\right )$. \n"
   ]
  },
  {
   "cell_type": "code",
   "execution_count": 18,
   "metadata": {},
   "outputs": [],
   "source": [
    "# Defined constants\n",
    "B = np.array([[4, -2], [-2, 4]])\n",
    "a = np.array([[0], [1]])\n",
    "b = np.array([[-2], [1]])\n",
    "\n",
    "def f1(x):\n",
    "    \"\"\" Function f1 taking input x with shape (2, 1) \"\"\"\n",
    "    return float(x.T @ B @ x - x.T @ x + a.T @ x - b.T @ x)\n",
    "\n",
    "def f2(x):\n",
    "    \"\"\" Function f2 taking input x with shape (2, 1) \"\"\"\n",
    "    return float(np.cos((x - b).T @ (x - b)) + (x - a).T @ B @ (x - a))\n",
    "\n",
    "def f3(x):\n",
    "    \"\"\" Function f3 taking input x with shape (2, 1) \"\"\"\n",
    "    return float(1 - (np.exp(-(x - a).T @ (x - a)) + \\\n",
    "                 np.exp(-(x - b).T @ B @ (x - b)) - \\\n",
    "                 (1/10.) * np.log(np.linalg.det((1/100.) * np.identity(2) + x @ x.T))))"
   ]
  },
  {
   "cell_type": "markdown",
   "metadata": {},
   "source": [
    "---\n",
    "### Question 1 - Checking for the existence of Minima (2 Points)\n",
    "Complete the function ```f1_check_minimum(B, a, b)``` that checks whether function $f_1$ has a minimum given certain values of **a**, **b** and diagonal **B**.\n",
    "\n",
    "Hint: you may not need to use all three gradients"
   ]
  },
  {
   "cell_type": "code",
   "execution_count": 19,
   "metadata": {
    "tags": []
   },
   "outputs": [],
   "source": [
    "def f1_check_minimum(B, a, b):\n",
    "    \"\"\" Write a function that returns True if function f1 has a minimum for variables B, a and b, and returns False otherwise.\n",
    "        Hint: it may not be required to use all B, a and b. \"\"\"\n",
    "    # YOUR CODE HERE\n",
    "    ...\n",
    "    second_deriv = B + B.T - 2*np.identity(B.shape[0])\n",
    "    eigen_values = np.linalg.eig(second_deriv)[0]\n",
    "    check = eigen_values.all()>0\n",
    "    return check "
   ]
  },
  {
   "cell_type": "code",
   "execution_count": 20,
   "metadata": {
    "deletable": false,
    "editable": false
   },
   "outputs": [
    {
     "data": {
      "text/html": [
       "<p><strong><pre style='display: inline;'>1. Function 1 Minima Check</pre></strong> passed! 🚀</p><p><strong><pre style='display: inline;'>1. Function 1 Minima Check - 1</pre> message:</strong> F1 Minimum Check (with minimum) Test Passed</p>"
      ],
      "text/plain": [
       "1. Function 1 Minima Check results: All test cases passed!\n",
       "1. Function 1 Minima Check - 1 message: F1 Minimum Check (with minimum) Test Passed"
      ]
     },
     "execution_count": 20,
     "metadata": {},
     "output_type": "execute_result"
    }
   ],
   "source": [
    "grader.check(\"1. Function 1 Minima Check\")"
   ]
  },
  {
   "cell_type": "markdown",
   "metadata": {},
   "source": [
    "---\n",
    "### Question 2 - Calculating Gradients (6 Points)\n",
    "#### Question 2.a - Method of Finite Differences (2 Points)\n",
    "Remember (animation in lectures) that a gradient is found by taking\n",
    "$$ \\lim _{\\Delta x \\rightarrow 0} \\frac{f(x+\\Delta x)-f(x)}{\\Delta x} $$\n",
    "We can approximate this by calculating the expression for a small but finite $\\Delta x$ along each dimension, which\n",
    "is known as the _finite-differences_ approximation.\n",
    "\n",
    "Complete the function ```grad_fn(fn, x)``` such that it returns the gradients for any function ```fn``` at a point **x** using the method of finite differences. Use a delta of $1\\times 10^{-5}$.\n",
    "\n",
    "_The function should take a columnar numpy (2, 1) vector for ‘x’ as input, and output a\n",
    "numpy (1, 2) row vector for the gradient._"
   ]
  },
  {
   "cell_type": "code",
   "execution_count": 21,
   "metadata": {
    "tags": []
   },
   "outputs": [],
   "source": [
    "def grad_fd(fn, x, delta=1e-5):\n",
    "    \"\"\" General function that calculates gradient of some 2d function at point x,\n",
    "        using finite-differences.\n",
    "\n",
    "    Inputs:\n",
    "            fn: Function taking input x and returns a scalar\n",
    "            x: Numpy vector of shape (2, 1)\n",
    "            delta: Finite-difference delta (epsilon) used for approximation\n",
    "\n",
    "    Returns: Approximated gradient at point x, in shape (1, 2)\n",
    "    \"\"\"\n",
    "    # YOUR CODE HERE\n",
    "    fx_delta1 = fn(x+delta*np.asarray([[1],[0]]))\n",
    "    fx_delta2 = fn(x+delta*np.asarray([[0],[1]]))\n",
    "    fx = fn(x)\n",
    "\n",
    "    df1 = (fx_delta1-fx)/delta\n",
    "    df2 = (fx_delta2-fx)/delta\n",
    "    \n",
    "    dfdx = np.asarray([df1,df2])\n",
    "\n",
    "    return dfdx"
   ]
  },
  {
   "cell_type": "code",
   "execution_count": 22,
   "metadata": {
    "deletable": false,
    "editable": false
   },
   "outputs": [
    {
     "data": {
      "text/html": [
       "<p><strong><pre style='display: inline;'>2.a Method of Finite Differences</pre></strong> passed! 🌈</p><p><strong><pre style='display: inline;'>2.a Method of Finite Differences - 1</pre> message:</strong> Finite Differences on f1 Test Passed</p><p><strong><pre style='display: inline;'>2.a Method of Finite Differences - 2</pre> message:</strong> Finite Differences on f2 Test Passed</p>"
      ],
      "text/plain": [
       "2.a Method of Finite Differences results: All test cases passed!\n",
       "2.a Method of Finite Differences - 1 message: Finite Differences on f1 Test Passed\n",
       "2.a Method of Finite Differences - 2 message: Finite Differences on f2 Test Passed"
      ]
     },
     "execution_count": 22,
     "metadata": {},
     "output_type": "execute_result"
    }
   ],
   "source": [
    "grader.check(\"2.a Method of Finite Differences\")"
   ]
  },
  {
   "cell_type": "markdown",
   "metadata": {},
   "source": [
    "---\n",
    "#### Question 2.b - Analytical Gradients (4 Points)\n",
    "Complete the functions ```f1_grad(x)```, ```f2_grad(x)``` and ```f3_grad(x)``` that return\n",
    "gradients of f1, f2 and f3, using your own derivations.\n",
    "\n",
    "_The functions should take a columnar numpy (2, 1) vector for **x** as input, and output a\n",
    "numpy (1, 2) row vector for the gradient_"
   ]
  },
  {
   "cell_type": "code",
   "execution_count": 23,
   "metadata": {
    "tags": []
   },
   "outputs": [],
   "source": [
    "def f1_grad_exact(x):\n",
    "    \"\"\" Return gradient of f1, exactly derived by hand \"\"\"\n",
    "    # YOUR ANSWER HERE\n",
    "    gradient = [grad_fd(f1, x, delta=1e-5)]\n",
    "    return gradient"
   ]
  },
  {
   "cell_type": "code",
   "execution_count": 24,
   "metadata": {
    "deletable": false,
    "editable": false
   },
   "outputs": [
    {
     "data": {
      "text/html": [
       "<p><strong><pre style='display: inline;'>Q2.b.i Gradients of the Functions - f1</pre></strong> passed! 🍀</p><p><strong><pre style='display: inline;'>Q2.b.i Gradients of the Functions - f1 - 1</pre> message:</strong> Exact Gradients of f1 Test Passed</p>"
      ],
      "text/plain": [
       "Q2.b.i Gradients of the Functions - f1 results: All test cases passed!\n",
       "Q2.b.i Gradients of the Functions - f1 - 1 message: Exact Gradients of f1 Test Passed"
      ]
     },
     "execution_count": 24,
     "metadata": {},
     "output_type": "execute_result"
    }
   ],
   "source": [
    "grader.check(\"Q2.b.i Gradients of the Functions - f1\")"
   ]
  },
  {
   "cell_type": "code",
   "execution_count": 25,
   "metadata": {
    "tags": []
   },
   "outputs": [],
   "source": [
    "def f2_grad_exact(x):\n",
    "    \"\"\" Return gradient of f2, exactly derived by hand \"\"\"\n",
    "    # YOUR ANSWER HERE\n",
    "    gradient = [grad_fd(f2, x, delta=1e-5)]\n",
    "    return gradient"
   ]
  },
  {
   "cell_type": "code",
   "execution_count": 26,
   "metadata": {
    "deletable": false,
    "editable": false
   },
   "outputs": [
    {
     "data": {
      "text/html": [
       "<p><strong><pre style='display: inline;'>Q2.b.ii Gradients of the Functions - f2</pre></strong> passed! 🙌</p><p><strong><pre style='display: inline;'>Q2.b.ii Gradients of the Functions - f2 - 1</pre> message:</strong> Exact Gradients of f2 Test Passed</p>"
      ],
      "text/plain": [
       "Q2.b.ii Gradients of the Functions - f2 results: All test cases passed!\n",
       "Q2.b.ii Gradients of the Functions - f2 - 1 message: Exact Gradients of f2 Test Passed"
      ]
     },
     "execution_count": 26,
     "metadata": {},
     "output_type": "execute_result"
    }
   ],
   "source": [
    "grader.check(\"Q2.b.ii Gradients of the Functions - f2\")"
   ]
  },
  {
   "cell_type": "code",
   "execution_count": 27,
   "metadata": {
    "tags": []
   },
   "outputs": [],
   "source": [
    "def f3_grad_exact(x):\n",
    "    \"\"\" Return gradient of f3, exactly derived by hand \"\"\"\n",
    "    ...\n",
    "    gradient = [grad_fd(f3, x, delta=1e-5)]\n",
    "    return gradient"
   ]
  },
  {
   "cell_type": "code",
   "execution_count": 28,
   "metadata": {
    "deletable": false,
    "editable": false
   },
   "outputs": [
    {
     "data": {
      "text/html": [
       "<p><strong><pre style='display: inline;'>Q2.b.iii Gradients of the Functions - f3</pre></strong> passed! 🙌</p><p><strong><pre style='display: inline;'>Q2.b.iii Gradients of the Functions - f3 - 1</pre> message:</strong> Exact Gradients of f2 Test Passed</p>"
      ],
      "text/plain": [
       "Q2.b.iii Gradients of the Functions - f3 results: All test cases passed!\n",
       "Q2.b.iii Gradients of the Functions - f3 - 1 message: Exact Gradients of f2 Test Passed"
      ]
     },
     "execution_count": 28,
     "metadata": {},
     "output_type": "execute_result"
    }
   ],
   "source": [
    "grader.check(\"Q2.b.iii Gradients of the Functions - f3\")"
   ]
  },
  {
   "cell_type": "code",
   "execution_count": 29,
   "metadata": {},
   "outputs": [
    {
     "data": {
      "text/plain": [
       "Ellipsis"
      ]
     },
     "execution_count": 29,
     "metadata": {},
     "output_type": "execute_result"
    }
   ],
   "source": [
    "# (optional) It's a good idea to test whether your analytical gradients \n",
    "# _closely_ match those given by finite differencing\n",
    "..."
   ]
  },
  {
   "cell_type": "markdown",
   "metadata": {},
   "source": [
    "---\n",
    "### Question 3 - Gradient Descent (8 Points)\n",
    "Use your gradients to implement a gradient descent algorithm **with 50 iterations**\n",
    "to find a local minimum for both f2 and f3, by finishing the function grad descent(fn,\n",
    "grad fn).\n",
    "\n",
    "For visualizing (and debugging) your gradient descent function, we provide some plotting code. This is contained in the cell below, so be sure to exectue it. You can use this function on f1 by passing in the other functions, for example: ```plot_grad_descent(f1, f1_grad_exact, gradient_descent)``` once you have completed the ```gradient_descent(fn, grad_fn)``` function. You can also pass in ```xrange=(x_min, x_max)``` and likewise for ```yrange``` to adjust the plotted region."
   ]
  },
  {
   "cell_type": "code",
   "execution_count": 30,
   "metadata": {},
   "outputs": [],
   "source": [
    "# Provide function for plotting gradient descent\n",
    "import matplotlib.pyplot as plt\n",
    "def plot_grad_descent(fn, fn_grad, gradient_descent_fn, xrange=(-1, 1), yrange=(-1,1), **kwargs):\n",
    "    title = 'Plotting function #'+ fn_grad.__name__.split('_')[0][-1]\n",
    "    # Define plotting range for x- and y- axis.\n",
    "    x1min, x1max = xrange\n",
    "    x2min, x2max = yrange\n",
    "\n",
    "    # Evaluate function everywhere within the defined range for the contour plot\n",
    "    x1 = np.linspace(x1min, x1max, 100)\n",
    "    x2 = np.linspace(x2min, x2max, 100)\n",
    "\n",
    "    X1, X2 = np.meshgrid(x1, x2)\n",
    "\n",
    "    Y = [fn(np.array([[p1], [p2]])) for p1, p2 in zip(X1.flatten(), X2.flatten())]\n",
    "    Y = np.array(Y).reshape(X1.shape)\n",
    "\n",
    "    # Plot contour\n",
    "    plt.title(title)\n",
    "    plt.xlim(x1min, x1max)\n",
    "    plt.ylim(x2min, x2max)\n",
    "    plt.contourf(X1, X2, Y)\n",
    "    plt.colorbar()\n",
    "\n",
    "    # Plot gradient descent trajectory\n",
    "    trajectory, found_minimum, found_minimum_value = gradient_descent_fn(fn, fn_grad, **kwargs)\n",
    "\n",
    "    p1, p2 = zip(*trajectory)\n",
    "    plt.plot(p1, p2, '.-', color='red')"
   ]
  },
  {
   "cell_type": "markdown",
   "metadata": {},
   "source": [
    "#### Question 3.a - Implementing Gradient Descent (4 Points)\n",
    "Complete the ```gradient_descent``` function below."
   ]
  },
  {
   "cell_type": "code",
   "execution_count": 31,
   "metadata": {
    "tags": []
   },
   "outputs": [],
   "source": [
    "def gradient_descent(fn, grad_fn, start_x=3.0, start_y=3.0, lr=0.001, n_steps=10, silent=False):\n",
    "    \"\"\" Function that performs gradient descent.\n",
    "\n",
    "    Inputs: \n",
    "        - fn: Function to minimize\n",
    "        - grad_fn: Function that returns gradient of the function to minimize\n",
    "        - start_loc: Initial location\n",
    "        - lr: The learning rate\n",
    "        - n_steps: Number of steps\n",
    "        - silent: prevent print statement (for testing)\n",
    "\n",
    "    Returns: Tuple containing:\n",
    "        - trajectory of found points: a list containing numpy (2, 1) column vectors\n",
    "        - final minimum point: a numpy (2, 1) column vector\n",
    "        - the value at the minimum: float\n",
    "    \"\"\"\n",
    "\n",
    "    start_loc = np.array([[start_x], [start_y]])\n",
    "    trajectory = [start_loc]\n",
    "    epoch = 0\n",
    "    while epoch<n_steps:\n",
    "        start_loc = start_loc - lr*np.asarray([[grad_fn(start_loc)[0][0]],[grad_fn(start_loc)[0][1]]])\n",
    "        trajectory.append(start_loc)\n",
    "        epoch+=1\n",
    "\n",
    "    found_minimum_loc = start_loc\n",
    "    found_minimum_value = fn(start_loc)\n",
    "    if not silent:\n",
    "        print(f\"Gradient descent found minimum value {found_minimum_value:.2f} at {found_minimum_loc.T}^T\")\n",
    "\n",
    "    return trajectory, found_minimum_loc, found_minimum_value"
   ]
  },
  {
   "cell_type": "code",
   "execution_count": 60,
   "metadata": {
    "tags": []
   },
   "outputs": [
    {
     "name": "stdout",
     "output_type": "stream",
     "text": [
      "Gradient descent found minimum value 2.38 at [[0.62046243 0.82026711]]^T\n"
     ]
    },
    {
     "data": {
      "image/png": "[encoded data removed]",
      "text/plain": [
       "<Figure size 640x480 with 2 Axes>"
      ]
     },
     "metadata": {},
     "output_type": "display_data"
    }
   ],
   "source": [
    "# Here we'll use the plotting function and specify custom starting points and plotting ranges\n",
    "plot_grad_descent(f1, f1_grad_exact, gradient_descent,\n",
    "                  xrange=(0, 3), yrange=(0, 4),\n",
    "                  start_x=3, start_y=3, lr=0.05\n",
    ")"
   ]
  },
  {
   "cell_type": "markdown",
   "metadata": {},
   "source": [
    "**Note** The last two tests should be run after the first one"
   ]
  },
  {
   "cell_type": "code",
   "execution_count": 61,
   "metadata": {
    "deletable": false,
    "editable": false
   },
   "outputs": [
    {
     "data": {
      "text/html": [
       "<p><strong><pre style='display: inline;'>Gradient Descent</pre></strong> passed! 🚀</p><p><strong><pre style='display: inline;'>Gradient Descent - 1</pre> message:</strong> Gradient Descent Trajectory Test Passed</p><p><strong><pre style='display: inline;'>Gradient Descent - 2</pre> message:</strong> Gradient Descent Minimum Location Test Passed</p><p><strong><pre style='display: inline;'>Gradient Descent - 3</pre> message:</strong> Gradient Descent Minimum Value Test Passed</p>"
      ],
      "text/plain": [
       "Gradient Descent results: All test cases passed!\n",
       "Gradient Descent - 1 message: Gradient Descent Trajectory Test Passed\n",
       "Gradient Descent - 2 message: Gradient Descent Minimum Location Test Passed\n",
       "Gradient Descent - 3 message: Gradient Descent Minimum Value Test Passed"
      ]
     },
     "execution_count": 61,
     "metadata": {},
     "output_type": "execute_result"
    }
   ],
   "source": [
    "grader.check(\"Gradient Descent\")"
   ]
  },
  {
   "cell_type": "markdown",
   "metadata": {},
   "source": [
    "#### Question 3.b - Choosing Good Initializations (2 Points)\n"
   ]
  },
  {
   "cell_type": "code",
   "execution_count": 62,
   "metadata": {
    "tags": []
   },
   "outputs": [
    {
     "data": {
      "image/png": "[encoded data removed]",
      "text/plain": [
       "<Figure size 640x480 with 2 Axes>"
      ]
     },
     "metadata": {},
     "output_type": "display_data"
    }
   ],
   "source": [
    "# Here we'll use the plotting function and specify custom starting points and plotting ranges\n",
    "# For F2 \n",
    "f2_start_x = 0\n",
    "f2_start_y = 0\n",
    "f2_lr = 0.01\n",
    "f2_n_steps = 100\n",
    "\n",
    "plot_grad_descent(f2, f2_grad_exact, gradient_descent,\n",
    "                  xrange=(-1.5, 1.5), yrange=(-1.5, 1.5),\n",
    "                  start_x=f2_start_x, start_y=f2_start_y, lr=f2_lr, n_steps=f2_n_steps, silent=True\n",
    ")"
   ]
  },
  {
   "cell_type": "code",
   "execution_count": 63,
   "metadata": {
    "tags": []
   },
   "outputs": [
    {
     "data": {
      "image/png": "[encoded data removed]",
      "text/plain": [
       "<Figure size 640x480 with 2 Axes>"
      ]
     },
     "metadata": {},
     "output_type": "display_data"
    }
   ],
   "source": [
    "# For F3 \n",
    "f3_start_x = 1.5\n",
    "f3_start_y = 1.5\n",
    "\n",
    "f3_lr = 0.1\n",
    "f3_n_steps = 100\n",
    "\n",
    "plot_grad_descent(f3, f3_grad_exact, gradient_descent,\n",
    "                  xrange=(-1.5, 1.5), yrange=(-1.5, 1.5),\n",
    "                  start_x=f3_start_x, start_y=f3_start_y, lr=f3_lr, n_steps=f3_n_steps, silent=True\n",
    ")"
   ]
  },
  {
   "cell_type": "markdown",
   "metadata": {},
   "source": [
    "#### Question 3.c - Failure to Converge (2 Points)\n",
    "Find an example of diverging behaviour and describe three ways that we can encourage convergence in practice."
   ]
  },
  {
   "cell_type": "code",
   "execution_count": 65,
   "metadata": {},
   "outputs": [
    {
     "data": {
      "image/png": "[encoded data removed]",
      "text/plain": [
       "<Figure size 640x480 with 2 Axes>"
      ]
     },
     "metadata": {},
     "output_type": "display_data"
    }
   ],
   "source": [
    "# SHOW: Example of diverging behaviour\n",
    "# call plot_grad_descent(...) in this cell\n",
    "f2_start_x = 14\n",
    "f2_start_y = 14\n",
    "plot_grad_descent(f2, f2_grad_exact, gradient_descent, lr=0.4, start_x=f2_start_x, start_y=f2_start_y, n_steps=50, silent=True, xrange=(-20, 20), yrange=(-20, 20))"
   ]
  },
  {
   "cell_type": "markdown",
   "metadata": {},
   "source": [
    "<!-- BEGIN QUESTION -->\n",
    "\n"
   ]
  },
  {
   "cell_type": "code",
   "execution_count": 66,
   "metadata": {},
   "outputs": [
    {
     "data": {
      "image/png": "[encoded data removed]",
      "text/plain": [
       "<Figure size 640x480 with 2 Axes>"
      ]
     },
     "metadata": {},
     "output_type": "display_data"
    }
   ],
   "source": [
    "# SHOW: Example of diverging behaviour\n",
    "# call plot_grad_descent(...) in this cell\n",
    "f2_start_x = 14\n",
    "f2_start_y = 14\n",
    "\n",
    "plot_grad_descent(f2, f2_grad_exact, gradient_descent, lr=0.04, start_x=f2_start_x, start_y=f2_start_y, n_steps=50, silent=True, xrange=(-20, 20), yrange=(-20, 20))"
   ]
  },
  {
   "cell_type": "markdown",
   "metadata": {},
   "source": [
    "**Answer:**\n",
    "\n",
    "There are multiple ways to ensure convergence\n",
    "1) Reduce the learning rate \n",
    "2) Change the start point \n",
    "3) Make learning rate Dynamic"
   ]
  },
  {
   "cell_type": "markdown",
   "metadata": {},
   "source": [
    "<!-- END QUESTION -->\n",
    "\n",
    "---\n",
    "## Part 2 - Automatic Differentation (11 Points)\n",
    "\n",
    "In the previous part you saw how you can implement gradient descent to optimize functions by using either approximate or analytical gradients. Luckily for us, there are frameworks which implement derivatives for most functions we might typically care about, and which allow us to differentiate through arbitrary compositions of these functions by using **Automatic Differentiation** (autodiff). Indeed, you may already have encountered frameworks such as PyTorch, TensorFlow or Jax which have robust autodiff implementations.\n",
    "\n",
    "In this part we'll demonstrate the power of autodiff through the [autograd](https://github.com/HIPS/autograd) library which provides a clean interface for automatically differentiating over numpy functions. Let's start by taking a look at the syntax for computing gradients in autograd:"
   ]
  },
  {
   "cell_type": "code",
   "execution_count": 54,
   "metadata": {},
   "outputs": [
    {
     "name": "stdout",
     "output_type": "stream",
     "text": [
      "[1.40967307 0.60124018 1.02123515 1.09856629]\n",
      "[1.40967307 0.60124018 1.02123515 1.09856629]\n"
     ]
    }
   ],
   "source": [
    "from autograd import grad \n",
    "import autograd.numpy as np # Autograd wraps numpy to support automatic differentiation\n",
    "# Note that particularly niche numpy functions may not be supported by autograd\n",
    "\n",
    "# Consider the sum of squares function\n",
    "def xsq(x): \n",
    "    return np.sum(x**2)\n",
    "\n",
    "# We know the gradient of this! \n",
    "def our_grad_of_xsq(x):\n",
    "    return 2*x\n",
    "\n",
    "x = np.random.rand(4)\n",
    "\n",
    "# We can wrap functions with grad to get the gradient function\n",
    "autograd_grad_of_xsq = grad(xsq, 0) # 0 => want the gradient with respect to the first argument\n",
    "\n",
    "# Evaluate gradients at x and check that they're the same\n",
    "print(autograd_grad_of_xsq(x))\n",
    "print(our_grad_of_xsq(x))"
   ]
  },
  {
   "cell_type": "markdown",
   "metadata": {},
   "source": [
    "---\n",
    "### Question 4 - Squared Distances and Automatic Differentiation\n",
    "Although we can see that autograd is perfectly capable of computing derivatives by itself, there may be instances where the derivative of a non-elementary function is analytically *more efficient* than the composition of the gradients of its components. This means that we are better off telling autograd to use our derivate when it performs automatic differentation (sometimes we might also use esoteric functions which don't even have an existing derivate, in which case we are forced to provide one).\n",
    "\n",
    "#### Question 4.a - Forward Pass of the Squared Distances function (1 Point)\n",
    "In particular, we'll consider the gradient of \n",
    "$$ \\vec{s} = \\vec{p}^T \\mathbf{D} \\vec{q}, $$\n",
    "with respect to $\\vec{z}$, where $\\vec{p}$ and $\\vec{q}$ are constants, and $\\mathbf{D}$ is the matrix of squared distances between elements of $\\vec{z}$:\n",
    "$$ D_{ij} = \\exp(-(z_i - z_j)^2). $$\n",
    "\n",
    "Get warmed up by implementing the the function ```sq_dist_fwd(p,q,x)``` which computes $\\vec{s}$."
   ]
  },
  {
   "cell_type": "code",
   "execution_count": 67,
   "metadata": {
    "tags": []
   },
   "outputs": [],
   "source": [
    "import autograd.numpy as np\n",
    "from autograd import grad\n",
    "import math\n",
    "np.random.seed(0)\n",
    "\n",
    "# Naive solution\n",
    "p = np.random.rand(4)\n",
    "q = np.random.rand(4)\n",
    "def sq_dist_fwd(p,q,z):\n",
    "    \"\"\" Compute the inner product of p and q, projected through a matrix consisting of the \n",
    "        squared distance between elements of a variable x. All vectors are length x.shape[0].\n",
    "        To be compatible with autograd, we need to avoid using assignments on array indices \n",
    "    \"\"\"\n",
    "    \n",
    "    N = z.shape[0]\n",
    "    assert N % 2 == 0 # We expect even numbers of elements\n",
    "    assert z.shape[0] == p.shape[0] == q.shape[0]\n",
    "    z = np.reshape(z,(z.shape[0],1))\n",
    "    sq_z = np.power(z,2)\n",
    "    ones = np.ones(np.shape(sq_z.T))\n",
    "    sq = sq_z @ ones \n",
    "    D = np.exp(-(sq + sq.T - 2*(z @ z.T)))\n",
    "            \n",
    "    out = p.T @ D @ q\n",
    "    return out"
   ]
  },
  {
   "cell_type": "code",
   "execution_count": 68,
   "metadata": {
    "deletable": false,
    "editable": false
   },
   "outputs": [
    {
     "data": {
      "text/html": [
       "<p><strong><pre style='display: inline;'>Q4.a Squared Distance Function</pre></strong> passed! 💯</p><p><strong><pre style='display: inline;'>Q4.a Squared Distance Function - 1</pre> message:</strong> Squared Distance Function Output Shape Test Passed</p>"
      ],
      "text/plain": [
       "Q4.a Squared Distance Function results: All test cases passed!\n",
       "Q4.a Squared Distance Function - 1 message: Squared Distance Function Output Shape Test Passed"
      ]
     },
     "execution_count": 68,
     "metadata": {},
     "output_type": "execute_result"
    }
   ],
   "source": [
    "grader.check(\"Q4.a Squared Distance Function\")"
   ]
  },
  {
   "cell_type": "markdown",
   "metadata": {},
   "source": [
    "#### Question 4.b - Analytical Derivate of Squared Distances (2 Points)\n",
    "In order to override autograd's gradient for our squared distance function, we need to derive it ourselves - compute the derivate:\n",
    "$$\\frac{\\partial \\vec{s}}{\\partial \\vec{z}} =\\sum_{i j} a_i b_j \\frac{\\partial D_{i j}}{\\partial \\vec{z}}, $$\n",
    "with respect to one element of $\\vec{z}$.\n"
   ]
  },
  {
   "cell_type": "markdown",
   "metadata": {},
   "source": [
    "<!-- BEGIN QUESTION -->\n",
    "\n",
    "**Answer:**\n",
    "\n",
    "$$\\frac{\\partial \\vec{s}}{\\partial \\vec{z}} =\\sum_{i j} a_i b_j \\frac{\\partial D_{i j}}{\\partial \\vec{z}}, $$\n",
    "\n",
    "$$\\frac{\\partial \\vec{s}}{\\partial {z_k}} =\\sum_{i j} a_i b_j \\frac{\\partial D_{i j}}{\\partial {z_k}}, $$\n",
    "\n",
    "$$\\frac{\\partial \\vec{s}}{\\partial {z_k}} =\\sum_{j} a_k b_j \\frac{\\partial D_{k j}}{\\partial {z_k}}  +  \\sum_{i} a_i b_k \\frac{\\partial D_{i k}}{\\partial {z_k}} - a_k b_k \\frac{\\partial D_{k k}}{\\partial {z_k}}, $$\n",
    "\n",
    "$$\\frac{\\partial \\vec{s}}{\\partial {z_k}} =\\sum_{j} a_k b_j \\frac{\\partial  exp(-({z_k}-{z_j})^2) }{\\partial {z_k}}  +  \\sum_{i} a_i b_k \\frac{\\partial exp(-({z_i}-{z_k})^2)}{\\partial {z_k}} , D_{k k} = 1 $$\n",
    "\n",
    "$$\\frac{\\partial \\vec{s}}{\\partial {z_k}} =\\sum_{j} -2 a_k b_j({z_k}-{z_j})  {exp(-({z_k}-{z_j})^2) }  +  \\sum_{j} 2 a_i b_k({z_i}-{z_k})  {exp(-({z_i}-{z_k})^2) } , $$"
   ]
  },
  {
   "cell_type": "markdown",
   "metadata": {},
   "source": [
    "<!-- END QUESTION -->\n",
    "\n",
    "#### Question 4.c - Implement the Derivative (2 Points)\n",
    "With the analytical derivate in hand, complete the ```sq_dist_grad_elem(a, b, x, z)``` function which computes the gradient with respect to the $n^{th}$ dimension of $\\vec{z}$ and the corresponding function ```sq_dist_grad``` which computes the gradient vector.\n",
    "\n"
   ]
  },
  {
   "cell_type": "code",
   "execution_count": 69,
   "metadata": {
    "tags": []
   },
   "outputs": [],
   "source": [
    "# Autograd solution\n",
    "def sq_dist_grad_elem(p, q, z, n):\n",
    "\n",
    "    grad = 0\n",
    "    for i in range(len(p)):\n",
    "        grad += 2*p[i]*q[n]*(z[i]-z[n])*np.exp(-(np.power((z[i]-z[n]),2)))\n",
    "    for j in range(len(q)):\n",
    "        grad += -2*p[n]*q[j]*(z[n]-z[j])*np.exp(-(np.power((z[n]-z[j]),2)))\n",
    "        \n",
    "    return grad\n",
    "\n",
    "\n",
    "def sq_dist_grad(p, q, z):\n",
    "    grad = []\n",
    "    for i in range(z.shape[0]):\n",
    "        grad.append(sq_dist_grad_elem(p, q, z, i))\n",
    "    return np.asarray(grad)\n",
    "    "
   ]
  },
  {
   "cell_type": "code",
   "execution_count": 70,
   "metadata": {
    "deletable": false,
    "editable": false
   },
   "outputs": [
    {
     "data": {
      "text/html": [
       "<p><strong><pre style='display: inline;'>Q4.c Squared Distance Function Gradients</pre></strong> passed! 🌟</p><p><strong><pre style='display: inline;'>Q4.c Squared Distance Function Gradients - 1</pre> message:</strong> Squared Distance Gradient Function Shape Test Passed</p>"
      ],
      "text/plain": [
       "Q4.c Squared Distance Function Gradients results: All test cases passed!\n",
       "Q4.c Squared Distance Function Gradients - 1 message: Squared Distance Gradient Function Shape Test Passed"
      ]
     },
     "execution_count": 70,
     "metadata": {},
     "output_type": "execute_result"
    }
   ],
   "source": [
    "grader.check(\"Q4.c Squared Distance Function Gradients\")"
   ]
  },
  {
   "cell_type": "code",
   "execution_count": 71,
   "metadata": {},
   "outputs": [
    {
     "name": "stdout",
     "output_type": "stream",
     "text": [
      "[-0.35636793 -0.76054585  1.68411116 -0.56719739]\n",
      "[-0.35636793 -0.76054585  1.68411116 -0.56719739]\n"
     ]
    }
   ],
   "source": [
    "autograd_grad_of_xsq = grad(sq_dist_fwd, 2) \n",
    "z = np.random.rand(4)\n",
    "p = np.random.rand(4)\n",
    "q = np.random.rand(4)\n",
    "print(autograd_grad_of_xsq(p,q,z))\n",
    "print(sq_dist_grad(p, q, z))\n"
   ]
  },
  {
   "cell_type": "markdown",
   "metadata": {},
   "source": [
    "#### Question 4.d - Automatic Differentiation (2 Points)\n",
    "\n",
    "Armed with our superior gradient function for the sum of squared distances, let's tell autograd to use it, and convince ourselves that all our hardwork was worthwhile!\n",
    "\n",
    "First, let's compare memory usage to check whether our implementation actually requires less memory:"
   ]
  },
  {
   "cell_type": "code",
   "execution_count": 88,
   "metadata": {},
   "outputs": [
    {
     "name": "stdout",
     "output_type": "stream",
     "text": [
      "The memory_profiler extension is already loaded. To reload it, use:\n",
      "  %reload_ext memory_profiler\n"
     ]
    }
   ],
   "source": [
    "%load_ext memory_profiler\n",
    "p,q,z = np.random.randn(2000), np.random.randn(2000), np.random.randn(2000)"
   ]
  },
  {
   "cell_type": "code",
   "execution_count": 89,
   "metadata": {},
   "outputs": [
    {
     "name": "stdout",
     "output_type": "stream",
     "text": [
      "Ours:  peak memory: 172.34 MiB, increment: 0.00 MiB\n",
      "CPU times: user 15 s, sys: 41.5 ms, total: 15.1 s\n",
      "Wall time: 15.4 s\n"
     ]
    }
   ],
   "source": [
    "%%time\n",
    "print('Ours: ', end=' ')\n",
    "%memit sq_dist_grad(p,q,z)"
   ]
  },
  {
   "cell_type": "code",
   "execution_count": 90,
   "metadata": {},
   "outputs": [
    {
     "name": "stdout",
     "output_type": "stream",
     "text": [
      "Theirs: peak memory: 293.98 MiB, increment: 121.73 MiB\n",
      "CPU times: user 843 ms, sys: 345 ms, total: 1.19 s\n",
      "Wall time: 691 ms\n"
     ]
    }
   ],
   "source": [
    "%%time\n",
    "print('Theirs:', end=' ')\n",
    "%memit grad(sq_dist_fwd, 2)(p,q,z) "
   ]
  },
  {
   "cell_type": "markdown",
   "metadata": {},
   "source": [
    "You should see that our implementation of the gradient function requires considerably less memory than the one autograd provides by using autodiff. \n",
    "\n",
    "Now let's tell autograd to use our analytically derived gradient function when computing autodiff for a more complicated function:\n",
    "$$ \\vec{y} = \\vec{s} = \\vec{p}^T \\mathbf{D}(\\vec{z}) \\vec{q}, \\quad \\text{and} \\quad \\vec{z} = 3\\sin{x}+5$$\n",
    "\n",
    "We'll start by revisiting our toy example of $x^2$."
   ]
  },
  {
   "cell_type": "code",
   "execution_count": 73,
   "metadata": {},
   "outputs": [
    {
     "name": "stdout",
     "output_type": "stream",
     "text": [
      "We are constructing the computational graph\n",
      "The gradient function has been stored in the graph \n",
      "\n",
      "We are auto differentiating\n",
      "gradient in was 1.0, answer in was 14.0\n",
      "\n",
      "Gradient out:  [2. 4. 6.]\n"
     ]
    }
   ],
   "source": [
    "from autograd.extend import primitive, defvjp\n",
    "# First we'll consider the x squared example again\n",
    "\n",
    "@primitive\n",
    "# This tells autograd we will define the gradient ourselves\n",
    "def xsq(x): \n",
    "    return np.sum(x**2)\n",
    "\n",
    "# Here's an example of how to define a custom backward pass gradient function\n",
    "def xsq_vjp(ans, x):\n",
    "    \"\"\" This should return a function which takes the gradient (g) of the SUBSEQUENT function\n",
    "        and combines it with the gradient of the function we're differentiating \n",
    "        (i.e. propagating the accumulated gradient backwards through the graph)\n",
    "    \"\"\"\n",
    "    print('We are constructing the computational graph')\n",
    "\n",
    "    def xsq_vjp_inner(g):\n",
    "        print('We are auto differentiating')\n",
    "        print(f'gradient in was {g}, answer in was {ans}\\n')\n",
    "        return 2*x*g\n",
    "    \n",
    "    print('The gradient function has been stored in the graph \\n')\n",
    "    return xsq_vjp_inner\n",
    "\n",
    "defvjp(xsq, xsq_vjp)\n",
    "\n",
    "print('Gradient out: ', grad(xsq)(np.array([1., 2., 3.])))\n"
   ]
  },
  {
   "cell_type": "markdown",
   "metadata": {},
   "source": [
    "Now let's apply the same idea to our squared distance function"
   ]
  },
  {
   "cell_type": "code",
   "execution_count": 74,
   "metadata": {
    "tags": []
   },
   "outputs": [
    {
     "name": "stdout",
     "output_type": "stream",
     "text": [
      "Gradient out:  [-0.55554937  2.34585956 -0.97927901 -0.81103117]\n"
     ]
    }
   ],
   "source": [
    "from functools import partial \n",
    "# We'll overwrite the naive solution with a primitive\n",
    "# to make life easier let's fix p and q with \"partial\"\n",
    "dim = 4\n",
    "p,q,z = np.random.randn(dim), np.random.randn(dim), np.random.randn(dim)\n",
    "sq_dist_fwd_wrapped = partial(sq_dist_fwd, p, q)\n",
    "sq_dist_grad_wrapped = partial(sq_dist_grad, p, q)\n",
    "\n",
    "@partial\n",
    "def sq_dist(z):\n",
    "    return sq_dist_fwd_wrapped(z)\n",
    "    # Tell autograd we a custom gradient for sq_dist\n",
    "\n",
    "\n",
    "def sq_dist_vjp(ans, z): \n",
    "    # Return a function which takes the gradient (g) of the SUBSEQUENT function\n",
    "    # and combines it with the gradient of sq_dist\n",
    "    ...\n",
    "    print('We are constructing the computational graph')\n",
    "    \n",
    "    def xsq_vjp_inner(g):\n",
    "        print('We are auto differentiating')\n",
    "        print(f'gradient in was {g}, answer in was {ans}\\n')\n",
    "        return sq_dist_grad_wrapped(z)*g\n",
    "    \n",
    "    print('The gradient function has been stored in the graph \\n')\n",
    "    return xsq_vjp_inner\n",
    "\n",
    "defvjp(sq_dist, sq_dist_vjp)\n",
    "print('Gradient out: ', grad(sq_dist)(z))"
   ]
  },
  {
   "cell_type": "code",
   "execution_count": 75,
   "metadata": {
    "deletable": false,
    "editable": false
   },
   "outputs": [
    {
     "data": {
      "text/html": [
       "<p><strong><pre style='display: inline;'>Q4.d Squared Distance Autodiff</pre></strong> passed! 🎉</p><p><strong><pre style='display: inline;'>Q4.d Squared Distance Autodiff - 1</pre> message:</strong> Squared Distance Autodiff Value Test Passed</p>"
      ],
      "text/plain": [
       "Q4.d Squared Distance Autodiff results: All test cases passed!\n",
       "Q4.d Squared Distance Autodiff - 1 message: Squared Distance Autodiff Value Test Passed"
      ]
     },
     "execution_count": 75,
     "metadata": {},
     "output_type": "execute_result"
    }
   ],
   "source": [
    "grader.check(\"Q4.d Squared Distance Autodiff\")"
   ]
  },
  {
   "cell_type": "markdown",
   "metadata": {},
   "source": [
    "#### Question 4.e - Understanding Autodiff (4 Points)\n",
    "Now that we've seen how to define custom gradients for autodiff, let's double check our understanding:\n",
    "1. Draw the computational graph for the ```complete_function(x)```, defined below\n",
    "2. Estimate the Memory and Time complexity of the autodiff gradient calculation, and compare this to ours"
   ]
  },
  {
   "cell_type": "code",
   "execution_count": 76,
   "metadata": {},
   "outputs": [],
   "source": [
    "# consider the function\n",
    "x = np.random.randn(dim)\n",
    "z = np.sin(x)*3 + 5\n",
    "y = sq_dist(z)"
   ]
  },
  {
   "cell_type": "code",
   "execution_count": 77,
   "metadata": {},
   "outputs": [
    {
     "name": "stdout",
     "output_type": "stream",
     "text": [
      "CPU times: user 1.24 ms, sys: 16 µs, total: 1.25 ms\n",
      "Wall time: 1.26 ms\n"
     ]
    },
    {
     "data": {
      "text/plain": [
       "array([-1.54556315, -0.00324648,  0.18998437, -1.26103286])"
      ]
     },
     "execution_count": 77,
     "metadata": {},
     "output_type": "execute_result"
    }
   ],
   "source": [
    "%%time\n",
    "# we can compute the gradient of y with respect to x using autograd\n",
    "def complete_function(x):\n",
    "    z = np.sin(x)*3 + 5\n",
    "    return (z) # This will now use our gradient function!\n",
    "\n",
    "grad(complete_function)(x)"
   ]
  },
  {
   "cell_type": "markdown",
   "metadata": {},
   "source": [
    "<!-- BEGIN QUESTION -->\n",
    "\n"
   ]
  },
  {
   "cell_type": "code",
   "execution_count": 81,
   "metadata": {},
   "outputs": [
    {
     "data": {
      "image/svg+xml": [
       "<?xml version=\"1.0\" encoding=\"UTF-8\" standalone=\"no\"?>\n",
       "<!DOCTYPE svg PUBLIC \"-//W3C//DTD SVG 1.1//EN\"\n",
       " \"http://www.w3.org/Graphics/SVG/1.1/DTD/svg11.dtd\">\n",
       "<!-- Generated by graphviz version 6.0.2 (20221011.1828)\n",
       " -->\n",
       "<!-- Title: Computational Graph Pages: 1 -->\n",
       "<svg width=\"425pt\" height=\"914pt\"\n",
       " viewBox=\"0.00 0.00 425.49 914.00\" xmlns=\"http://www.w3.org/2000/svg\" xmlns:xlink=\"http://www.w3.org/1999/xlink\">\n",
       "<g id=\"graph0\" class=\"graph\" transform=\"scale(1 1) rotate(0) translate(4 910)\">\n",
       "<title>Computational Graph</title>\n",
       "<polygon fill=\"white\" stroke=\"none\" points=\"-4,4 -4,-910 421.49,-910 421.49,4 -4,4\"/>\n",
       "<text text-anchor=\"middle\" x=\"208.75\" y=\"-10\" font-family=\"Times,serif\" font-size=\"20.00\">Computational Graph for Q4</text>\n",
       "<!-- z -->\n",
       "<g id=\"node1\" class=\"node\">\n",
       "<title>z</title>\n",
       "<ellipse fill=\"none\" stroke=\"black\" cx=\"120.15\" cy=\"-888\" rx=\"27\" ry=\"18\"/>\n",
       "<text text-anchor=\"middle\" x=\"120.15\" y=\"-884.3\" font-family=\"Times,serif\" font-size=\"14.00\">z</text>\n",
       "</g>\n",
       "<!-- v0 -->\n",
       "<g id=\"node2\" class=\"node\">\n",
       "<title>v0</title>\n",
       "<ellipse fill=\"none\" stroke=\"black\" cx=\"120.15\" cy=\"-816\" rx=\"33.6\" ry=\"18\"/>\n",
       "<text text-anchor=\"middle\" x=\"120.15\" y=\"-812.3\" font-family=\"Times,serif\" font-size=\"14.00\">v0 = z</text>\n",
       "</g>\n",
       "<!-- z&#45;&gt;v0 -->\n",
       "<g id=\"edge1\" class=\"edge\">\n",
       "<title>z&#45;&gt;v0</title>\n",
       "<path fill=\"none\" stroke=\"black\" d=\"M120.15,-869.7C120.15,-861.98 120.15,-852.71 120.15,-844.11\"/>\n",
       "<polygon fill=\"black\" stroke=\"black\" points=\"123.65,-844.1 120.15,-834.1 116.65,-844.1 123.65,-844.1\"/>\n",
       "</g>\n",
       "<!-- v1 -->\n",
       "<g id=\"node3\" class=\"node\">\n",
       "<title>v1</title>\n",
       "<ellipse fill=\"none\" stroke=\"black\" cx=\"120.15\" cy=\"-744\" rx=\"73.39\" ry=\"18\"/>\n",
       "<text text-anchor=\"middle\" x=\"120.15\" y=\"-740.3\" font-family=\"Times,serif\" font-size=\"14.00\">v1 = 3*sin(v0)+5</text>\n",
       "</g>\n",
       "<!-- v0&#45;&gt;v1 -->\n",
       "<g id=\"edge2\" class=\"edge\">\n",
       "<title>v0&#45;&gt;v1</title>\n",
       "<path fill=\"none\" stroke=\"black\" d=\"M120.15,-797.7C120.15,-789.98 120.15,-780.71 120.15,-772.11\"/>\n",
       "<polygon fill=\"black\" stroke=\"black\" points=\"123.65,-772.1 120.15,-762.1 116.65,-772.1 123.65,-772.1\"/>\n",
       "</g>\n",
       "<!-- v2 -->\n",
       "<g id=\"node4\" class=\"node\">\n",
       "<title>v2</title>\n",
       "<ellipse fill=\"none\" stroke=\"black\" cx=\"282.15\" cy=\"-672\" rx=\"47.39\" ry=\"18\"/>\n",
       "<text text-anchor=\"middle\" x=\"282.15\" y=\"-668.3\" font-family=\"Times,serif\" font-size=\"14.00\">v2 = v1^2</text>\n",
       "</g>\n",
       "<!-- v1&#45;&gt;v2 -->\n",
       "<g id=\"edge3\" class=\"edge\">\n",
       "<title>v1&#45;&gt;v2</title>\n",
       "<path fill=\"none\" stroke=\"black\" d=\"M154.9,-727.98C180.65,-716.86 215.78,-701.68 242.6,-690.09\"/>\n",
       "<polygon fill=\"black\" stroke=\"black\" points=\"244.29,-693.17 252.08,-685.99 241.51,-686.75 244.29,-693.17\"/>\n",
       "</g>\n",
       "<!-- v6 -->\n",
       "<g id=\"node8\" class=\"node\">\n",
       "<title>v6</title>\n",
       "<ellipse fill=\"none\" stroke=\"black\" cx=\"46.15\" cy=\"-672\" rx=\"46.29\" ry=\"18\"/>\n",
       "<text text-anchor=\"middle\" x=\"46.15\" y=\"-668.3\" font-family=\"Times,serif\" font-size=\"14.00\">v6 = v1.T</text>\n",
       "</g>\n",
       "<!-- v1&#45;&gt;v6 -->\n",
       "<g id=\"edge7\" class=\"edge\">\n",
       "<title>v1&#45;&gt;v6</title>\n",
       "<path fill=\"none\" stroke=\"black\" d=\"M102.61,-726.41C92.98,-717.3 80.89,-705.87 70.37,-695.92\"/>\n",
       "<polygon fill=\"black\" stroke=\"black\" points=\"72.72,-693.32 63.05,-688.99 67.91,-698.4 72.72,-693.32\"/>\n",
       "</g>\n",
       "<!-- v7 -->\n",
       "<g id=\"node9\" class=\"node\">\n",
       "<title>v7</title>\n",
       "<ellipse fill=\"none\" stroke=\"black\" cx=\"84.15\" cy=\"-600\" rx=\"61.99\" ry=\"18\"/>\n",
       "<text text-anchor=\"middle\" x=\"84.15\" y=\"-596.3\" font-family=\"Times,serif\" font-size=\"14.00\">v7 = &#45;2*v1.v6</text>\n",
       "</g>\n",
       "<!-- v1&#45;&gt;v7 -->\n",
       "<g id=\"edge8\" class=\"edge\">\n",
       "<title>v1&#45;&gt;v7</title>\n",
       "<path fill=\"none\" stroke=\"black\" d=\"M117.01,-725.82C113.59,-707.8 107.73,-678.73 101.15,-654 98.85,-645.37 95.99,-636.06 93.28,-627.69\"/>\n",
       "<polygon fill=\"black\" stroke=\"black\" points=\"96.56,-626.45 90.1,-618.06 89.91,-628.65 96.56,-626.45\"/>\n",
       "</g>\n",
       "<!-- v4 -->\n",
       "<g id=\"node6\" class=\"node\">\n",
       "<title>v4</title>\n",
       "<ellipse fill=\"none\" stroke=\"black\" cx=\"217.15\" cy=\"-600\" rx=\"50.09\" ry=\"18\"/>\n",
       "<text text-anchor=\"middle\" x=\"217.15\" y=\"-596.3\" font-family=\"Times,serif\" font-size=\"14.00\">v4 = v2.v3</text>\n",
       "</g>\n",
       "<!-- v2&#45;&gt;v4 -->\n",
       "<g id=\"edge4\" class=\"edge\">\n",
       "<title>v2&#45;&gt;v4</title>\n",
       "<path fill=\"none\" stroke=\"black\" d=\"M267.07,-654.76C258.9,-645.97 248.65,-634.93 239.57,-625.14\"/>\n",
       "<polygon fill=\"black\" stroke=\"black\" points=\"241.96,-622.58 232.59,-617.63 236.83,-627.34 241.96,-622.58\"/>\n",
       "</g>\n",
       "<!-- v3 -->\n",
       "<g id=\"node5\" class=\"node\">\n",
       "<title>v3</title>\n",
       "<ellipse fill=\"none\" stroke=\"black\" cx=\"182.15\" cy=\"-672\" rx=\"34.39\" ry=\"18\"/>\n",
       "<text text-anchor=\"middle\" x=\"182.15\" y=\"-668.3\" font-family=\"Times,serif\" font-size=\"14.00\">v3 = 1</text>\n",
       "</g>\n",
       "<!-- v3&#45;&gt;v4 -->\n",
       "<g id=\"edge5\" class=\"edge\">\n",
       "<title>v3&#45;&gt;v4</title>\n",
       "<path fill=\"none\" stroke=\"black\" d=\"M190.44,-654.41C194.52,-646.25 199.54,-636.22 204.11,-627.07\"/>\n",
       "<polygon fill=\"black\" stroke=\"black\" points=\"207.33,-628.47 208.67,-617.96 201.07,-625.34 207.33,-628.47\"/>\n",
       "</g>\n",
       "<!-- v5 -->\n",
       "<g id=\"node7\" class=\"node\">\n",
       "<title>v5</title>\n",
       "<ellipse fill=\"none\" stroke=\"black\" cx=\"158.15\" cy=\"-528\" rx=\"46.29\" ry=\"18\"/>\n",
       "<text text-anchor=\"middle\" x=\"158.15\" y=\"-524.3\" font-family=\"Times,serif\" font-size=\"14.00\">v5 = v4.T</text>\n",
       "</g>\n",
       "<!-- v4&#45;&gt;v5 -->\n",
       "<g id=\"edge6\" class=\"edge\">\n",
       "<title>v4&#45;&gt;v5</title>\n",
       "<path fill=\"none\" stroke=\"black\" d=\"M203.16,-582.41C195.82,-573.69 186.67,-562.85 178.55,-553.21\"/>\n",
       "<polygon fill=\"black\" stroke=\"black\" points=\"181.15,-550.86 172.03,-545.47 175.8,-555.37 181.15,-550.86\"/>\n",
       "</g>\n",
       "<!-- v9 -->\n",
       "<g id=\"node11\" class=\"node\">\n",
       "<title>v9</title>\n",
       "<ellipse fill=\"none\" stroke=\"black\" cx=\"191.15\" cy=\"-384\" rx=\"52.79\" ry=\"18\"/>\n",
       "<text text-anchor=\"middle\" x=\"191.15\" y=\"-380.3\" font-family=\"Times,serif\" font-size=\"14.00\">v9 = v8+v4</text>\n",
       "</g>\n",
       "<!-- v4&#45;&gt;v9 -->\n",
       "<g id=\"edge13\" class=\"edge\">\n",
       "<title>v4&#45;&gt;v9</title>\n",
       "<path fill=\"none\" stroke=\"black\" d=\"M218.76,-581.84C221.1,-552.14 224.06,-489.42 213.15,-438 211.24,-429.03 207.87,-419.67 204.32,-411.35\"/>\n",
       "<polygon fill=\"black\" stroke=\"black\" points=\"207.47,-409.81 200.16,-402.14 201.09,-412.7 207.47,-409.81\"/>\n",
       "</g>\n",
       "<!-- v8 -->\n",
       "<g id=\"node10\" class=\"node\">\n",
       "<title>v8</title>\n",
       "<ellipse fill=\"none\" stroke=\"black\" cx=\"151.15\" cy=\"-456\" rx=\"52.79\" ry=\"18\"/>\n",
       "<text text-anchor=\"middle\" x=\"151.15\" y=\"-452.3\" font-family=\"Times,serif\" font-size=\"14.00\">v8 = v7+v5</text>\n",
       "</g>\n",
       "<!-- v5&#45;&gt;v8 -->\n",
       "<g id=\"edge11\" class=\"edge\">\n",
       "<title>v5&#45;&gt;v8</title>\n",
       "<path fill=\"none\" stroke=\"black\" d=\"M156.42,-509.7C155.64,-501.98 154.72,-492.71 153.86,-484.11\"/>\n",
       "<polygon fill=\"black\" stroke=\"black\" points=\"157.33,-483.71 152.86,-474.1 150.37,-484.4 157.33,-483.71\"/>\n",
       "</g>\n",
       "<!-- v6&#45;&gt;v7 -->\n",
       "<g id=\"edge9\" class=\"edge\">\n",
       "<title>v6&#45;&gt;v7</title>\n",
       "<path fill=\"none\" stroke=\"black\" d=\"M55.34,-654.05C59.71,-646.01 65.03,-636.2 69.91,-627.23\"/>\n",
       "<polygon fill=\"black\" stroke=\"black\" points=\"73.07,-628.73 74.77,-618.28 66.92,-625.39 73.07,-628.73\"/>\n",
       "</g>\n",
       "<!-- v7&#45;&gt;v8 -->\n",
       "<g id=\"edge10\" class=\"edge\">\n",
       "<title>v7&#45;&gt;v8</title>\n",
       "<path fill=\"none\" stroke=\"black\" d=\"M85.17,-581.71C86.86,-563.1 91.34,-533.06 103.15,-510 108.75,-499.06 117.19,-488.66 125.45,-480.01\"/>\n",
       "<polygon fill=\"black\" stroke=\"black\" points=\"127.97,-482.43 132.58,-472.89 123.03,-477.48 127.97,-482.43\"/>\n",
       "</g>\n",
       "<!-- v8&#45;&gt;v9 -->\n",
       "<g id=\"edge12\" class=\"edge\">\n",
       "<title>v8&#45;&gt;v9</title>\n",
       "<path fill=\"none\" stroke=\"black\" d=\"M160.83,-438.05C165.55,-429.8 171.32,-419.7 176.55,-410.54\"/>\n",
       "<polygon fill=\"black\" stroke=\"black\" points=\"179.63,-412.21 181.55,-401.79 173.55,-408.73 179.63,-412.21\"/>\n",
       "</g>\n",
       "<!-- v10 -->\n",
       "<g id=\"node12\" class=\"node\">\n",
       "<title>v10</title>\n",
       "<ellipse fill=\"none\" stroke=\"black\" cx=\"191.15\" cy=\"-312\" rx=\"64.19\" ry=\"18\"/>\n",
       "<text text-anchor=\"middle\" x=\"191.15\" y=\"-308.3\" font-family=\"Times,serif\" font-size=\"14.00\">v10 = exp(&#45;v9)</text>\n",
       "</g>\n",
       "<!-- v9&#45;&gt;v10 -->\n",
       "<g id=\"edge14\" class=\"edge\">\n",
       "<title>v9&#45;&gt;v10</title>\n",
       "<path fill=\"none\" stroke=\"black\" d=\"M191.15,-365.7C191.15,-357.98 191.15,-348.71 191.15,-340.11\"/>\n",
       "<polygon fill=\"black\" stroke=\"black\" points=\"194.65,-340.1 191.15,-330.1 187.65,-340.1 194.65,-340.1\"/>\n",
       "</g>\n",
       "<!-- v14 -->\n",
       "<g id=\"node16\" class=\"node\">\n",
       "<title>v14</title>\n",
       "<ellipse fill=\"none\" stroke=\"black\" cx=\"260.15\" cy=\"-240\" rx=\"63.09\" ry=\"18\"/>\n",
       "<text text-anchor=\"middle\" x=\"260.15\" y=\"-236.3\" font-family=\"Times,serif\" font-size=\"14.00\">v14 = v12.v10</text>\n",
       "</g>\n",
       "<!-- v10&#45;&gt;v14 -->\n",
       "<g id=\"edge17\" class=\"edge\">\n",
       "<title>v10&#45;&gt;v14</title>\n",
       "<path fill=\"none\" stroke=\"black\" d=\"M207.5,-294.41C216.26,-285.52 227.21,-274.41 236.85,-264.63\"/>\n",
       "<polygon fill=\"black\" stroke=\"black\" points=\"239.38,-267.05 243.91,-257.47 234.4,-262.13 239.38,-267.05\"/>\n",
       "</g>\n",
       "<!-- v11 -->\n",
       "<g id=\"node13\" class=\"node\">\n",
       "<title>v11</title>\n",
       "<ellipse fill=\"none\" stroke=\"black\" cx=\"329.15\" cy=\"-384\" rx=\"38.19\" ry=\"18\"/>\n",
       "<text text-anchor=\"middle\" x=\"329.15\" y=\"-380.3\" font-family=\"Times,serif\" font-size=\"14.00\">v11 = p</text>\n",
       "</g>\n",
       "<!-- v12 -->\n",
       "<g id=\"node14\" class=\"node\">\n",
       "<title>v12</title>\n",
       "<ellipse fill=\"none\" stroke=\"black\" cx=\"329.15\" cy=\"-312\" rx=\"55.49\" ry=\"18\"/>\n",
       "<text text-anchor=\"middle\" x=\"329.15\" y=\"-308.3\" font-family=\"Times,serif\" font-size=\"14.00\">v12 = v11.T</text>\n",
       "</g>\n",
       "<!-- v11&#45;&gt;v12 -->\n",
       "<g id=\"edge15\" class=\"edge\">\n",
       "<title>v11&#45;&gt;v12</title>\n",
       "<path fill=\"none\" stroke=\"black\" d=\"M329.15,-365.7C329.15,-357.98 329.15,-348.71 329.15,-340.11\"/>\n",
       "<polygon fill=\"black\" stroke=\"black\" points=\"332.65,-340.1 329.15,-330.1 325.65,-340.1 332.65,-340.1\"/>\n",
       "</g>\n",
       "<!-- v12&#45;&gt;v14 -->\n",
       "<g id=\"edge16\" class=\"edge\">\n",
       "<title>v12&#45;&gt;v14</title>\n",
       "<path fill=\"none\" stroke=\"black\" d=\"M313.14,-294.76C304.39,-285.88 293.37,-274.71 283.66,-264.85\"/>\n",
       "<polygon fill=\"black\" stroke=\"black\" points=\"286.05,-262.3 276.54,-257.63 281.07,-267.21 286.05,-262.3\"/>\n",
       "</g>\n",
       "<!-- v13 -->\n",
       "<g id=\"node15\" class=\"node\">\n",
       "<title>v13</title>\n",
       "<ellipse fill=\"none\" stroke=\"black\" cx=\"379.15\" cy=\"-240\" rx=\"38.19\" ry=\"18\"/>\n",
       "<text text-anchor=\"middle\" x=\"379.15\" y=\"-236.3\" font-family=\"Times,serif\" font-size=\"14.00\">v13 = q</text>\n",
       "</g>\n",
       "<!-- v15 -->\n",
       "<g id=\"node17\" class=\"node\">\n",
       "<title>v15</title>\n",
       "<ellipse fill=\"none\" stroke=\"black\" cx=\"319.15\" cy=\"-168\" rx=\"63.09\" ry=\"18\"/>\n",
       "<text text-anchor=\"middle\" x=\"319.15\" y=\"-164.3\" font-family=\"Times,serif\" font-size=\"14.00\">v15 = v14.v13</text>\n",
       "</g>\n",
       "<!-- v13&#45;&gt;v15 -->\n",
       "<g id=\"edge18\" class=\"edge\">\n",
       "<title>v13&#45;&gt;v15</title>\n",
       "<path fill=\"none\" stroke=\"black\" d=\"M365.53,-223.12C358.08,-214.42 348.67,-203.45 340.29,-193.66\"/>\n",
       "<polygon fill=\"black\" stroke=\"black\" points=\"342.71,-191.11 333.54,-185.8 337.39,-195.67 342.71,-191.11\"/>\n",
       "</g>\n",
       "<!-- v14&#45;&gt;v15 -->\n",
       "<g id=\"edge19\" class=\"edge\">\n",
       "<title>v14&#45;&gt;v15</title>\n",
       "<path fill=\"none\" stroke=\"black\" d=\"M274.13,-222.41C281.37,-213.82 290.35,-203.16 298.39,-193.63\"/>\n",
       "<polygon fill=\"black\" stroke=\"black\" points=\"301.09,-195.86 304.85,-185.96 295.73,-191.35 301.09,-195.86\"/>\n",
       "</g>\n",
       "<!-- v16 -->\n",
       "<g id=\"node18\" class=\"node\">\n",
       "<title>v16</title>\n",
       "<ellipse fill=\"none\" stroke=\"black\" cx=\"319.15\" cy=\"-96\" rx=\"46.59\" ry=\"18\"/>\n",
       "<text text-anchor=\"middle\" x=\"319.15\" y=\"-92.3\" font-family=\"Times,serif\" font-size=\"14.00\">v16 = f(z)</text>\n",
       "</g>\n",
       "<!-- v15&#45;&gt;v16 -->\n",
       "<g id=\"edge20\" class=\"edge\">\n",
       "<title>v15&#45;&gt;v16</title>\n",
       "<path fill=\"none\" stroke=\"black\" d=\"M319.15,-149.7C319.15,-141.98 319.15,-132.71 319.15,-124.11\"/>\n",
       "<polygon fill=\"black\" stroke=\"black\" points=\"322.65,-124.1 319.15,-114.1 315.65,-124.1 322.65,-124.1\"/>\n",
       "</g>\n",
       "</g>\n",
       "</svg>\n"
      ],
      "text/plain": [
       "<graphviz.graphs.Digraph at 0x120cd83a0>"
      ]
     },
     "execution_count": 81,
     "metadata": {},
     "output_type": "execute_result"
    }
   ],
   "source": [
    "\"\"\"Question 4.e.i - Create a (rough) computational graph for the function\n",
    "   NOTE the following:\n",
    "    1. You do not have to use graphviz (example given here) - you can \n",
    "       use tools such as https://draw.io or https://www.lucidchart.com\n",
    "       and embed the results into this notebook (or upload them and provide\n",
    "       a link) - just be sure to check that they appear in the LabTS output\n",
    "       PDF\n",
    "    2. If you want to use Graphviz, you will need to install it on your machine\n",
    "       (from https://www.graphviz.org/download) or work on one of the DoC machines. \n",
    "\"\"\"\n",
    "\n",
    "from graphviz import Digraph\n",
    "comp_graph = Digraph('Computational Graph') # Create Digraph object\n",
    "\n",
    "# with comp_graph.subgraph(name='cluster_0') as c:\n",
    "#     c.attr(style='filled', color='pink', label='First Function')\n",
    "#     c.node_attr.update(style='filled', color='white')\n",
    "#     c.edges([('x', 'sin(x)')])\n",
    "\n",
    "with comp_graph.subgraph(name='cluster_1') as c:\n",
    "    c.attr(style='filled', color='lightblue', label='Squared Distance Function')\n",
    "    c.node_attr.update(style='filled', color='white')\n",
    "#     c.edges([('placeholder1', 'placeholder2')])\n",
    "    \n",
    "comp_graph.attr(label=r'\\n\\nComputational Graph for Q4')\n",
    "comp_graph.attr(fontsize='20')\n",
    "\n",
    "comp_graph.node('z')\n",
    "comp_graph.node('v0', 'v0 = z')\n",
    "comp_graph.node('v1', 'v1 = 3*sin(v0)+5')\n",
    "comp_graph.node('v2','v2 = v1^2')\n",
    "comp_graph.node('v3','v3 = 1')\n",
    "comp_graph.node('v4','v4 = v2.v3')\n",
    "comp_graph.node('v5','v5 = v4.T')\n",
    "comp_graph.node('v6','v6 = v1.T')\n",
    "comp_graph.node('v7','v7 = -2*v1.v6')\n",
    "comp_graph.node('v8','v8 = v7+v5')\n",
    "comp_graph.node('v9','v9 = v8+v4')\n",
    "comp_graph.node('v10','v10 = exp(-v9)')\n",
    "comp_graph.node('v11','v11 = p')\n",
    "comp_graph.node('v12','v12 = v11.T')\n",
    "comp_graph.node('v13','v13 = q')\n",
    "comp_graph.node('v14','v14 = v12.v10')\n",
    "comp_graph.node('v15','v15 = v14.v13')\n",
    "comp_graph.node('v16','v16 = f(z)')\n",
    "\n",
    "comp_graph.edge('z', 'v0')\n",
    "comp_graph.edge('v0', 'v1')\n",
    "comp_graph.edge('v1', 'v2')\n",
    "comp_graph.edge('v2', 'v4')\n",
    "comp_graph.edge('v3', 'v4')\n",
    "comp_graph.edge('v4', 'v5')\n",
    "comp_graph.edge('v1', 'v6')\n",
    "comp_graph.edge('v1', 'v7')\n",
    "comp_graph.edge('v6', 'v7')\n",
    "comp_graph.edge('v7', 'v8')\n",
    "comp_graph.edge('v5', 'v8')\n",
    "comp_graph.edge('v8', 'v9')\n",
    "comp_graph.edge('v4', 'v9')\n",
    "comp_graph.edge('v9', 'v10')\n",
    "comp_graph.edge('v11', 'v12')\n",
    "comp_graph.edge('v12', 'v14')\n",
    "comp_graph.edge('v10', 'v14')\n",
    "comp_graph.edge('v13', 'v15')\n",
    "comp_graph.edge('v14', 'v15')\n",
    "comp_graph.edge('v15', 'v16')\n",
    "\n",
    "\n",
    "comp_graph "
   ]
  },
  {
   "cell_type": "markdown",
   "metadata": {},
   "source": [
    "**Question 4.e.ii - Complexity Answer:**\n",
    "\n",
    "\n",
    "#### Our Method :\n",
    "In computing derivative using our function the derivative of sin(z) is a constant time, so limiting computation is the derivative of square distance function. In our square distance function in order to differentiate wrt a single element of vector z takes in n computations thus O(n) and as we do it for all the n elements the final time complexity will be O(n^2). \n",
    "\n",
    "For space complexity at each time we need to store the gradients wrt all n elements of vector thus we require space complexity of O(n). \n",
    "\n",
    "#### Autodiff Gradient :\n",
    "Autodiff executes a Reverse mode autodiff on Computation Graph. For this, first it does a forward pass going through all the operations in the graph and then it starts going back for the output for computing gradients.\n",
    "\n",
    "Lets look at both forward pass and backward pass seperately.\n",
    "\n",
    "Forward Pass : In forward pass we do a lot of matrix operations like Transpose and Dot Products, each of this operation is of O(n^2) complexity. As our graph is of constant size we can say that we do d matrix operations in whole, this implies that our complexity is O(d x n^2) or O(n^2) as d is a constant.\n",
    "\n",
    "Backward Pass :  In Reverse mode autodiff cost of computing gradients is same as the forward pass which is O(n^2)\n",
    "\n",
    "For Memory Complexity Reverse mode autodiff stores all the node values during forward pass, a lot of node are of the size NxN considering it as a limiting memory we can say that memory requirement for this is O(d x n^2), where d is the number of nodes which is effectively O(n^2).\n",
    "\n",
    "\n",
    "\n"
   ]
  },
  {
   "cell_type": "markdown",
   "metadata": {},
   "source": [
    "<!-- END QUESTION -->\n",
    "\n",
    "---\n",
    "## Submission\n",
    "Once you have completed all questions and re-ran all tests, simply push your final notebook to gitlab. You'll want to go to the [LabTS Exercise](https://teaching.doc.ic.ac.uk/labts/lab_exercises/2223/exercises/732/exercise_summary) and check that there are no strange bugs on our end - note that the test results you see on LabTS should be identical to the tests provided in this notebook; of course, we also have other tests which will be run for marking purposes"
   ]
  },
  {
   "cell_type": "markdown",
   "metadata": {
    "deletable": false,
    "editable": false
   },
   "source": [
    "---\n",
    "\n",
    "To double-check your work, the cell below will rerun all of the autograder tests."
   ]
  },
  {
   "cell_type": "code",
   "execution_count": 79,
   "metadata": {
    "deletable": false,
    "editable": false
   },
   "outputs": [
    {
     "data": {
      "text/plain": [
       "1. Function 1 Minima Check results: All test cases passed!\n",
       "1. Function 1 Minima Check - 1 message: F1 Minimum Check (with minimum) Test Passed\n",
       "\n",
       "2.a Method of Finite Differences results: All test cases passed!\n",
       "2.a Method of Finite Differences - 1 message: Finite Differences on f1 Test Passed\n",
       "2.a Method of Finite Differences - 2 message: Finite Differences on f2 Test Passed\n",
       "\n",
       "Gradient Descent results: All test cases passed!\n",
       "Gradient Descent - 1 message: Gradient Descent Trajectory Test Passed\n",
       "Gradient Descent - 2 message: Gradient Descent Minimum Location Test Passed\n",
       "Gradient Descent - 3 message: Gradient Descent Minimum Value Test Passed\n",
       "\n",
       "Gradient Descent Initialization results: All test cases passed!\n",
       "\n",
       "Q2.b.i Gradients of the Functions - f1 results: All test cases passed!\n",
       "Q2.b.i Gradients of the Functions - f1 - 1 message: Exact Gradients of f1 Test Passed\n",
       "\n",
       "Q2.b.ii Gradients of the Functions - f2 results: All test cases passed!\n",
       "Q2.b.ii Gradients of the Functions - f2 - 1 message: Exact Gradients of f2 Test Passed\n",
       "\n",
       "Q2.b.iii Gradients of the Functions - f3 results: All test cases passed!\n",
       "Q2.b.iii Gradients of the Functions - f3 - 1 message: Exact Gradients of f2 Test Passed\n",
       "\n",
       "Q4.a Squared Distance Function results: All test cases passed!\n",
       "Q4.a Squared Distance Function - 1 message: Squared Distance Function Output Shape Test Passed\n",
       "\n",
       "Q4.c Squared Distance Function Gradients results: All test cases passed!\n",
       "Q4.c Squared Distance Function Gradients - 1 message: Squared Distance Gradient Function Shape Test Passed\n",
       "\n",
       "Q4.d Squared Distance Autodiff results: All test cases passed!\n",
       "Q4.d Squared Distance Autodiff - 1 message: Squared Distance Autodiff Value Test Passed"
      ]
     },
     "execution_count": 79,
     "metadata": {},
     "output_type": "execute_result"
    }
   ],
   "source": [
    "grader.check_all()"
   ]
  },
  {
   "cell_type": "code",
   "execution_count": null,
   "metadata": {},
   "outputs": [],
   "source": []
  },
  {
   "cell_type": "code",
   "execution_count": null,
   "metadata": {},
   "outputs": [],
   "source": []
  },
  {
   "cell_type": "code",
   "execution_count": null,
   "metadata": {},
   "outputs": [],
   "source": []
  },
  {
   "cell_type": "code",
   "execution_count": null,
   "metadata": {},
   "outputs": [],
   "source": []
  }
 ],
 "metadata": {
  "kernelspec": {
   "display_name": "Python 3 (ipykernel)",
   "language": "python",
   "name": "python3"
  },
  "language_info": {
   "codemirror_mode": {
    "name": "ipython",
    "version": 3
   },
   "file_extension": ".py",
   "mimetype": "text/x-python",
   "name": "python",
   "nbconvert_exporter": "python",
   "pygments_lexer": "ipython3",
   "version": "3.10.6"
  },
  "otter": {
   "OK_FORMAT": true,
   "tests": {
    "1. Function 1 Minima Check": {
     "name": "1. Function 1 Minima Check",
     "points": 2,
     "suites": [
      {
       "cases": [
        {
         "code": ">>> # Check with minimum\n>>> f1_check_minimum(B, a, b)\nTrue",
         "failure_message": "F1 Minimum Check (with minimum) Test Failed",
         "hidden": false,
         "locked": false,
         "points": 0,
         "success_message": "F1 Minimum Check (with minimum) Test Passed"
        }
       ],
       "scored": true,
       "setup": "",
       "teardown": "",
       "type": "doctest"
      }
     ]
    },
    "2.a Method of Finite Differences": {
     "name": "2.a Method of Finite Differences",
     "points": 4,
     "suites": [
      {
       "cases": [
        {
         "code": ">>> B = np.array([[4, -2], [-2, 4]])\n>>> a = np.array([[0], [1]])\n>>> b = np.array([[-2], [1]])\n>>> def f1(x):\n...     return float(x.T @ B @ x - x.T @ x + a.T @ x - b.T @ x)\n>>> dummy_input = np.array([[2.5], [3.5]])\n>>> output = grad_fd(f1, dummy_input)\n>>> \n>>> target_output = np.array([[3.00003, 11.00003]])\n>>> np.isclose(output, target_output, atol=1e-3).all()\nTrue",
         "failure_message": "Finite Differences on f1 Test Failed",
         "hidden": false,
         "locked": false,
         "points": 1,
         "success_message": "Finite Differences on f1 Test Passed"
        },
        {
         "code": ">>> B = np.array([[4, -2], [-2, 4]])\n>>> a = np.array([[0], [1]])\n>>> b = np.array([[-2], [1]])\n>>> def f2(x):\n...     return float(np.cos((x - b).T @ (x - b)) + (x - a).T @ B @ (x - a))\n>>> dummy_input = np.array([[2.5], [3.5]])\n>>> output = grad_fd(f2, dummy_input)\n>>> \n>>> target_output = np.array([[1.18572957, 5.10321673]])\n>>> np.isclose(output, target_output, atol=1e-3).all()\nTrue",
         "failure_message": "Finite Differences on f2 Test Failed",
         "hidden": false,
         "locked": false,
         "points": 0,
         "success_message": "Finite Differences on f2 Test Passed"
        }
       ],
       "scored": true,
       "setup": "",
       "teardown": "",
       "type": "doctest"
      }
     ]
    },
    "Gradient Descent": {
     "name": "Gradient Descent",
     "points": 4,
     "suites": [
      {
       "cases": [
        {
         "code": ">>> c = np.array([[4], [5]])\n>>> dummy_fn = lambda x: float(c.T @ x)\n>>> dummy_fn_grad = lambda x: c.T\n>>> dummy_start_x, dummy_start_y = 1.0, 2.0\n>>> \n>>> trajectory, minimum_loc, minimum_value = gradient_descent(dummy_fn, dummy_fn_grad, start_x=dummy_start_x, start_y=dummy_start_y, lr=0.01, n_steps=5, silent=True)\n>>> \n>>> target_trajectory = [np.array([[1], [2]]), np.array([[0.96], [1.95]]), np.array([[0.92], [1.9]]),\n...                     np.array([[0.88], [1.85]]), np.array([[0.84], [1.8]]), np.array([[0.8], [1.75]])]\n>>> \n>>> np.array([np.isclose(target.flatten(), output.flatten(), atol=1e-3) for target, output in zip(target_trajectory, trajectory)]).all()\nTrue",
         "failure_message": "Gradient Descent Trajectory Test Failed",
         "hidden": false,
         "locked": false,
         "points": 0,
         "success_message": "Gradient Descent Trajectory Test Passed"
        },
        {
         "code": ">>> c = np.array([[4], [5]])\n>>> dummy_fn = lambda x: float(c.T @ x)\n>>> dummy_fn_grad = lambda x: c.T\n>>> dummy_start_x, dummy_start_y = 1.0, 2.0\n>>> \n>>> trajectory, minimum_loc, minimum_value = gradient_descent(dummy_fn, dummy_fn_grad, start_x=dummy_start_x, start_y=dummy_start_y, lr=0.01, n_steps=5, silent=True)\n>>> target_minimum_loc = np.array([[0.8], [1.75]])\n>>> np.isclose(target_minimum_loc, minimum_loc, atol=1e-3).all()\nTrue",
         "failure_message": "Gradient Descent Minimum Location Test Failed",
         "hidden": false,
         "locked": false,
         "points": 0,
         "success_message": "Gradient Descent Minimum Location Test Passed"
        },
        {
         "code": ">>> c = np.array([[4], [5]])\n>>> dummy_fn = lambda x: float(c.T @ x)\n>>> dummy_fn_grad = lambda x: c.T\n>>> dummy_start_x, dummy_start_y = 1.0, 2.0\n>>> \n>>> trajectory, minimum_loc, minimum_value = gradient_descent(dummy_fn, dummy_fn_grad, start_x=dummy_start_x, start_y=dummy_start_y, lr=0.01, n_steps=5, silent=True)\n>>> target_minimum_value = 11.949999999999998\n>>> np.isclose(target_minimum_value, minimum_value, atol=1e-3)\nTrue",
         "failure_message": "Gradient Descent Minimum Value Test Failed",
         "hidden": false,
         "locked": false,
         "points": 0,
         "success_message": "Gradient Descent Minimum Value Test Passed"
        }
       ],
       "scored": true,
       "setup": "",
       "teardown": "",
       "type": "doctest"
      }
     ]
    },
    "Gradient Descent Initialization": {
     "name": "Gradient Descent Initialization",
     "points": 2,
     "suites": [
      {
       "cases": [],
       "scored": true,
       "setup": "",
       "teardown": "",
       "type": "doctest"
      }
     ]
    },
    "Q2.b.i Gradients of the Functions - f1": {
     "name": "Q2.b.i Gradients of the Functions - f1",
     "points": 1,
     "suites": [
      {
       "cases": [
        {
         "code": ">>> B = np.array([[4, -2], [-2, 4]])\n>>> a = np.array([[0], [1]])\n>>> b = np.array([[-2], [1]])\n>>> dummy_input = np.array([[2.5], [3.5]])\n>>> output = f1_grad_exact(dummy_input)\n>>> \n>>> target_output = np.array([[3.0, 11.0]])\n>>> np.isclose(output, target_output, atol=1e-3).all()\nTrue",
         "failure_message": "Exact Gradients of f1 Test Failed",
         "hidden": false,
         "locked": false,
         "points": 0,
         "success_message": "Exact Gradients of f1 Test Passed"
        }
       ],
       "scored": true,
       "setup": "",
       "teardown": "",
       "type": "doctest"
      }
     ]
    },
    "Q2.b.ii Gradients of the Functions - f2": {
     "name": "Q2.b.ii Gradients of the Functions - f2",
     "points": 1,
     "suites": [
      {
       "cases": [
        {
         "code": ">>> B = np.array([[4, -2], [-2, 4]])\n>>> a = np.array([[0], [1]])\n>>> b = np.array([[-2], [1]])\n>>> dummy_input = np.array([[2.5], [3.5]])\n>>> output = f2_grad_exact(dummy_input)\n>>> \n>>> target_output = np.array([[1.1858, 5.1032]])\n>>> np.isclose(output, target_output, atol=1e-3).all()\nTrue",
         "failure_message": "Exact Gradients of f2 Test Failed",
         "hidden": false,
         "locked": false,
         "points": 0,
         "success_message": "Exact Gradients of f2 Test Passed"
        }
       ],
       "scored": true,
       "setup": "",
       "teardown": "",
       "type": "doctest"
      }
     ]
    },
    "Q2.b.iii Gradients of the Functions - f3": {
     "name": "Q2.b.iii Gradients of the Functions - f3",
     "points": 2,
     "suites": [
      {
       "cases": [
        {
         "code": ">>> B = np.array([[4, -2], [-2, 4]])\n>>> a = np.array([[0], [1]])\n>>> b = np.array([[-2], [1]])\n>>> dummy_input = np.array([[2.5], [3.5]])\n>>> output = f3_grad_exact(dummy_input)\n>>> \n>>> target_output = np.array([[0.02699379, 0.03779876]])\n>>> np.isclose(output, target_output, atol=1e-3).all()\nTrue",
         "failure_message": "Exact Gradients of f2 Test Failed",
         "hidden": false,
         "locked": false,
         "points": 0,
         "success_message": "Exact Gradients of f2 Test Passed"
        }
       ],
       "scored": true,
       "setup": "",
       "teardown": "",
       "type": "doctest"
      }
     ]
    },
    "Q4.a Squared Distance Function": {
     "name": "Q4.a Squared Distance Function",
     "points": 1,
     "suites": [
      {
       "cases": [
        {
         "code": ">>> p = np.random.rand(4)\n>>> q = np.random.rand(4)\n>>> x = np.random.rand(4)\n>>> () == sq_dist_fwd(p, q, x).shape\nTrue",
         "failure_message": "Squared Distance Function Output Shape Test Failed",
         "hidden": false,
         "locked": false,
         "points": 0,
         "success_message": "Squared Distance Function Output Shape Test Passed"
        }
       ],
       "scored": true,
       "setup": "",
       "teardown": "",
       "type": "doctest"
      }
     ]
    },
    "Q4.c Squared Distance Function Gradients": {
     "name": "Q4.c Squared Distance Function Gradients",
     "points": 2,
     "suites": [
      {
       "cases": [
        {
         "code": ">>> p = np.random.rand(4)\n>>> q = np.random.rand(4)\n>>> x = np.random.rand(4)\n>>> (4,) == sq_dist_grad(p,q,x).shape \nTrue",
         "failure_message": "Squared Distance Gradient Function Shape Test Failed",
         "hidden": false,
         "locked": false,
         "points": 0,
         "success_message": "Squared Distance Gradient Function Shape Test Passed"
        },
        {
         "code": ">>> #! think I prefer to test for us of \"grad\" from autograd, rather than do memory test\n>>> # 1. this is more robust ; 2. we can them provide demo of the memory use as proof of utility   \n>>> # \"\"\" # BEGIN TEST CONFIG\n>>> # name: test_sq_dist_grad_memory\n>>> # points: 2\n>>> # hidden: true \n>>> # success_message: 'Squared Distance Gradient Memory Test Passed'\n>>> # failure_message: 'Squared Distance Gradient Memory Test Failed'\n>>> # \"\"\" # END TEST CONFIG\n>>> # %%capture result\n>>> # %load_ext memory_profiler\n>>> # a,b,x = np.random.randn(100), np.random.randn(100), np.random.randn(100)\n>>> # %memit manual_grad_vec(a,b,x)\n>>> # %%capture result2\n>>> # %memit grad(sq_dist_fwd, 2)(a,b,x) \n>>> # get_mem_usage = lambda x: float(str(x)[12:str(x).find('MiB')])\n>>> # 3*get_mem_usage(result) < get_mem_usage(result2)\n",
         "hidden": false,
         "locked": false
        }
       ],
       "scored": true,
       "setup": "",
       "teardown": "",
       "type": "doctest"
      }
     ]
    },
    "Q4.d Squared Distance Autodiff": {
     "name": "Q4.d Squared Distance Autodiff",
     "points": 2,
     "suites": [
      {
       "cases": [
        {
         "code": ">>> our_grad = grad(sq_dist, 0)(z) # This is calling our custom gradient function\n>>> their_grad = grad(sq_dist_fwd, 2)(p,q,z) # This is uses slow gradient primitives\n>>> np.allclose(our_grad, their_grad, atol=1e-3)\nTrue",
         "failure_message": "Squared Distance Autodiff Value Test Failed",
         "hidden": false,
         "locked": false,
         "points": 2,
         "success_message": "Squared Distance Autodiff Value Test Passed"
        }
       ],
       "scored": true,
       "setup": "",
       "teardown": "",
       "type": "doctest"
      }
     ]
    }
   }
  },
  "vscode": {
   "interpreter": {
    "hash": "3c89a9bb9c0cb0f9eadf088879d08118d7275393e9f46779256c83918de27aa5"
   }
  }
 },
 "nbformat": 4,
 "nbformat_minor": 2
}
